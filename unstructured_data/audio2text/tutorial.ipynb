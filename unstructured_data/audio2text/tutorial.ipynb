{
 "cells": [
  {
   "cell_type": "code",
   "execution_count": 41,
   "id": "326f7e4a-377c-4854-8a6b-e6378e63cc09",
   "metadata": {},
   "outputs": [],
   "source": [
    "\n",
    "import os\n",
    "import shutil\n",
    "from snowflake.snowpark import Session\n"
   ]
  },
  {
   "cell_type": "code",
   "execution_count": 102,
   "id": "d67fc1e4-74b6-4b47-8beb-4f3180316e16",
   "metadata": {},
   "outputs": [],
   "source": [
    "\n",
    "account='' # YOUR_ACCOUNT\n",
    "user='' # YOUR_USER\n",
    "password='' # YOUR_PASSWORD\n",
    "role='' #YOUR_ROLE\n",
    "\n",
    "database='' #YOUR_DB\n",
    "schema='' #YOUR_SCHEMA\n",
    "stage='' #YOUR_STAGE\n",
    "stage_data_path='audio2text/tests' #data path \n",
    "\n",
    "warehouse='' #YOUR WH\n",
    "image_registry='project_repo' #name of the image registry that will be created\n",
    "image_name='audio2text:01' # name of the image\n",
    "\n",
    "external_access_integration='ALL_EAI' # EAI that is used to retrieve the model\n",
    "num_replicas = 2 # service number of replicas\n",
    "job_name='audio2text_v1' # job name\n",
    "output_table='audio2text_output_table' #table to write results\n",
    "\n",
    "compute_pool_name='AUDIO2TEXT_TEST02' \n",
    "compute_pool_instance_family='CPU_X64_M'\n",
    "compute_pool_instances=2\n",
    "\n",
    "\n",
    "connection_parameters = {\n",
    "    \"account\": account,\n",
    "    \"user\": user,\n",
    "    \"password\": password,\n",
    "    \"warehouse\": warehouse,\n",
    "    \"database\": database,\n",
    "    \"schema\": schema,\n",
    "    \"role\": role,\n",
    "    \"client_session_keep_alive\": True,\n",
    "}\n",
    "\n",
    "session = Session.builder.configs(connection_parameters).create()\n"
   ]
  },
  {
   "cell_type": "code",
   "execution_count": null,
   "id": "2c33f036-1b31-4f3d-bfc8-d35005b85f29",
   "metadata": {
    "scrolled": true
   },
   "outputs": [],
   "source": [
    "\n",
    "def upload_dummy_data_to_stage(\n",
    "    session: Session, local_directory: str, stage_path: str, num_files: int = 1000, overwrite: bool = True\n",
    "):    \n",
    "    if not stage_path.startswith(\"@\"):\n",
    "        stage_path = f\"@{stage_path}\"\n",
    "\n",
    "    overwrite_option = \"TRUE\" if overwrite else \"FALSE\"\n",
    "\n",
    "    local_files = []\n",
    "    for root, _, files in os.walk(local_directory):\n",
    "        for file in files:\n",
    "            local_file_path = os.path.join(root, file)\n",
    "            local_files.append(local_file_path)\n",
    "\n",
    "    for file_num in range(num_files):\n",
    "        local_file_to_upload = local_files[file_num%len(local_files)]\n",
    "        file_path, file_ext = os.path.splitext(os.path.basename(local_file_to_upload))\n",
    "        local_target_file_path = f\"{file_path}_{file_num}{file_ext}\"\n",
    "        shutil.copy(local_file_to_upload, local_target_file_path)\n",
    "\n",
    "        put_command = f\"PUT 'file://{local_target_file_path}' '{stage_path}' OVERWRITE={overwrite_option} AUTO_COMPRESS=False\"\n",
    "        print(f\"Uploading: {local_target_file_path} → {stage_path}\")\n",
    "        \n",
    "        try:\n",
    "            session.sql(put_command).collect()\n",
    "        except Exception as e:\n",
    "            print(f\"Error uploading {local_target_file_path}: {e}\")\n",
    "        os.remove(local_target_file_path)\n",
    "\n",
    "\n",
    "session.sql(f\"USE {database}.{schema}\").collect()\n",
    "\n",
    "stage_sql = f\"CREATE STAGE IF NOT EXISTS {stage}\"\n",
    "\n",
    "session.sql(stage_sql).collect()\n",
    "\n",
    "\n",
    "upload_dummy_data_to_stage(session, \"./data\", f\"{stage}/{stage_data_path}\")\n",
    "\n"
   ]
  },
  {
   "cell_type": "code",
   "execution_count": null,
   "id": "1094817b-e5b9-4047-9745-2f8900533c01",
   "metadata": {},
   "outputs": [],
   "source": [
    "\n",
    "create_image_repo_sql = f\"CREATE IMAGE REPOSITORY IF NOT EXISTS {image_registry}\"\n",
    "session.sql(create_image_repo_sql).collect()\n",
    "\n",
    "get_image_repo_sql = f\"show image repositories like '{image_registry}';\"\n",
    "repository_url = session.sql(get_image_repo_sql).collect()[0]['repository_url']\n",
    "print(repository_url)\n"
   ]
  },
  {
   "cell_type": "code",
   "execution_count": null,
   "id": "1d5909b7-27d3-4258-a03d-e09900bb7041",
   "metadata": {
    "collapsed": true,
    "jupyter": {
     "outputs_hidden": true
    },
    "scrolled": true
   },
   "outputs": [],
   "source": [
    "\n",
    "os.environ['SPCS_USERNAME']=user\n",
    "os.environ['SPCS_PASSWORD']=password\n",
    "os.environ['SPCS_IMAGE_REPO']=repository_url\n",
    "os.environ['SPCS_IMAGE_NAME']=image_name\n",
    "\n",
    "!docker login $SPCS_IMAGE_REPO -u $SPCS_USERNAME -p $SPCS_PASSWORD\n",
    "\n",
    "!docker build --platform linux/amd64 -t $SPCS_IMAGE_REPO/$SPCS_IMAGE_NAME -f ./Dockerfile ./\n",
    "\n",
    "!docker push $SPCS_IMAGE_REPO/$SPCS_IMAGE_NAME\n"
   ]
  },
  {
   "cell_type": "code",
   "execution_count": null,
   "id": "597e4c65-047a-4c03-b469-e7c279817d50",
   "metadata": {},
   "outputs": [],
   "source": [
    "\n",
    "create_compute_pool_sql = f\"\"\"\n",
    "create compute pool if not exists {compute_pool_name}\n",
    "  min_nodes={compute_pool_instances}\n",
    "  max_nodes={compute_pool_instances}\n",
    "  instance_family={compute_pool_instance_family};\n",
    "\"\"\"\n",
    "\n",
    "print(session.sql(create_compute_pool_sql).collect())\n",
    "\n"
   ]
  },
  {
   "cell_type": "code",
   "execution_count": null,
   "id": "708dd187-ca23-42db-a3b7-6399d60f1f93",
   "metadata": {},
   "outputs": [],
   "source": [
    "\n",
    "print(session.sql(f'DROP SERVICE IF EXISTS {job_name}').collect())\n",
    "\n",
    "create_async_job_sql = f\"\"\"\n",
    "EXECUTE JOB SERVICE\n",
    "IN COMPUTE POOL {compute_pool_name} \n",
    "NAME = {job_name}\n",
    "ASYNC = True\n",
    "REPLICAS = {num_replicas}\n",
    "QUERY_WAREHOUSE = {warehouse}\n",
    "EXTERNAL_ACCESS_INTEGRATIONS = ({external_access_integration})\n",
    "FROM SPECIFICATION $$\n",
    "    spec:\n",
    "      container:\n",
    "      - name: main\n",
    "        image: /{database}/{schema}/{image_registry}/{image_name}\n",
    "        command: ['python', '-u', './main.py', '--config-file=./configs/openai-whisper-tiny.toml', '--stage-name={stage}', '--stage-data-path={stage_path}']\n",
    "        resources:\n",
    "            requests:\n",
    "              memory: \"10Gi\"\n",
    "            limits:\n",
    "              memory: \"10Gi\"\n",
    "\n",
    "$$\n",
    "\"\"\"\n",
    "\n",
    "print(session.sql(create_async_job_sql).collect())\n",
    "\n"
   ]
  },
  {
   "cell_type": "code",
   "execution_count": null,
   "id": "ec78eb50-7b85-440a-80f9-2a652beb9ac5",
   "metadata": {},
   "outputs": [],
   "source": [
    "\n",
    "print(session.sql(f'DESC SERVICE {job_name}').collect())\n",
    "\n"
   ]
  },
  {
   "cell_type": "code",
   "execution_count": 106,
   "id": "c622b03b-6f5e-47fc-a8f6-039d56723767",
   "metadata": {},
   "outputs": [
    {
     "name": "stdout",
     "output_type": "stream",
     "text": [
      "\n"
     ]
    }
   ],
   "source": [
    "\n",
    "logs = session.sql(f\"CALL SYSTEM$GET_SERVICE_LOGS('{job_name}', 1, 'main')\").collect()\n",
    "for line in logs[0][0].split('\\n'):\n",
    "    print(line)\n"
   ]
  },
  {
   "cell_type": "code",
   "execution_count": null,
   "id": "85304ddc-0b56-4325-8b74-dbb4091643af",
   "metadata": {},
   "outputs": [],
   "source": [
    "\n",
    "create_output_table_sql= f\"\"\"\n",
    "CREATE OR REPLACE TABLE {output_table} (\n",
    "    data VARIANT\n",
    ");\n",
    "\"\"\"\n",
    "\n",
    "print(session.sql(create_output_table_sql).collect())\n",
    "\n",
    "copy_data_sql = f\"\"\"\n",
    "COPY INTO {output_table}\n",
    "FROM @{stage}/{job_name.upper()}\n",
    "FILE_FORMAT = (TYPE = PARQUET);\n",
    "\"\"\"\n",
    "\n",
    "print(session.sql(copy_data_sql).collect())\n",
    "\n"
   ]
  },
  {
   "cell_type": "code",
   "execution_count": null,
   "id": "a953deee-a965-4673-adc5-f2594558f001",
   "metadata": {},
   "outputs": [],
   "source": [
    "\n",
    "records = session.sql(f\"select * from {output_table}\").collect()\n",
    "for record in records[0:10]:\n",
    "    print(record)\n"
   ]
  },
  {
   "cell_type": "code",
   "execution_count": null,
   "id": "948daab5-d9b2-4e26-9c33-6a4f63ebbccf",
   "metadata": {},
   "outputs": [],
   "source": []
  }
 ],
 "metadata": {
  "kernelspec": {
   "display_name": "Python 3 (ipykernel)",
   "language": "python",
   "name": "python3"
  },
  "language_info": {
   "codemirror_mode": {
    "name": "ipython",
    "version": 3
   },
   "file_extension": ".py",
   "mimetype": "text/x-python",
   "name": "python",
   "nbconvert_exporter": "python",
   "pygments_lexer": "ipython3",
   "version": "3.10.16"
  }
 },
 "nbformat": 4,
 "nbformat_minor": 5
}
