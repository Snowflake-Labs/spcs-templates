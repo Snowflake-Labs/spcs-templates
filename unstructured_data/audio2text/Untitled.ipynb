{
 "cells": [
  {
   "cell_type": "code",
   "execution_count": 5,
   "id": "e8fc5f89-6a24-4762-b617-a8ea37ba4646",
   "metadata": {},
   "source": [
    "\n",
    "\n",
    "#!/opt/conda/bin/python3\n",
    "\n",
    "import tempfile\n",
    "from typing import Dict\n",
    "\n",
    "import click\n",
    "import toml\n",
    "from snowflake.snowpark import Session\n",
    "from typing import List\n",
    "from evaluate import load\n",
    "\n",
    "from audio2text.data import get_dataset\n",
    "from audio2text.models import openai_whisper, nemo_canary\n",
    "from audio2text.models.api import InputRow, OutputRow\n",
    "from audio2text.models.api import InputRow, OutputRow\n",
    "from nemo.collections.asr.models import EncDecMultiTaskModel\n",
    "\n",
    "from audio2text.utils import (\n",
    "    init_logger,\n",
    "    get_rank,\n",
    "    get_world_size,\n",
    "    create_session,\n",
    ")\n",
    "\n",
    "logger = init_logger(__name__)\n",
    "\n",
    "\n",
    "local_dir=\"/Users/aivanou/code/spcs-templates/unstructured_data/audio2text/data\"\n",
    "\n",
    "model_name='nemo-canary'\n",
    "# config = toml.load('./configs/openai-whisper-tiny.toml')\n",
    "# model = get_model(model_name, config)\n",
    "\n",
    "dataset = get_dataset(local_dir)\n",
    "\n",
    "batch_records = dataset[0:10]\n",
    "\n",
    "input_batch = []\n",
    "for idx in range(len(batch_records['audio_id'])):\n",
    "    input_batch.append(InputRow(\n",
    "        audio_id=batch_records['audio_id'][idx],\n",
    "        text=batch_records['raw_text'][idx],\n",
    "        filepath=batch_records['audio'][idx]['path'],\n",
    "        audio_data=batch_records['audio'][idx]['array'],\n",
    "    ))\n",
    "\n",
    "\n",
    "\n",
    "\n",
    "\n"
   ],
   "outputs": []
  },
  {
   "cell_type": "code",
   "execution_count": 9,
   "id": "dee7650b-5032-4771-ad4c-13a3c86d5f64",
   "metadata": {},
   "source": [
    "\n",
    "\n",
    "model = EncDecMultiTaskModel.from_pretrained('nvidia/canary-1b')\n",
    "model = model.eval()\n",
    "\n"
   ],
   "outputs": []
  },
  {
   "cell_type": "code",
   "execution_count": 11,
   "id": "87661058-5e32-413c-9992-09a5f10bad3e",
   "metadata": {},
   "source": [
    "\n",
    "input_files = [row.filepath for row in input_batch]\n",
    "\n",
    "batch_data = [input_batch[0].audio_data, input_batch[1].audio_data]\n",
    "\n",
    "transcriptions = model.transcribe(\n",
    "    batch_data,\n",
    "    batch_size=4,  # batch size to run the inference with\n",
    "    task=\"ast\",  # use \"ast\" for speech-to-text translation\n",
    "    source_lang=\"en\",  # language of the audio input, set `source_lang`==`target_lang` for ASR\n",
    "    target_lang=\"en\",  # language of the text output\n",
    "    pnc='True',\n",
    ")\n",
    "\n"
   ],
   "outputs": []
  },
  {
   "cell_type": "code",
   "execution_count": 12,
   "id": "55059341-09ed-413d-87d0-6c51f9092968",
   "metadata": {},
   "source": [
    "\n",
    "transcriptions\n"
   ],
   "outputs": []
  },
  {
   "cell_type": "code",
   "execution_count": null,
   "id": "076abd6e-8e0a-478e-a9d1-5063e49b857c",
   "metadata": {},
   "source": [],
   "outputs": []
  }
 ],
 "metadata": {
  "kernelspec": {
   "display_name": "Python 3 (ipykernel)",
   "language": "python",
   "name": "python3"
  },
  "language_info": {
   "codemirror_mode": {
    "name": "ipython",
    "version": 3
   },
   "file_extension": ".py",
   "mimetype": "text/x-python",
   "name": "python",
   "nbconvert_exporter": "python",
   "pygments_lexer": "ipython3",
   "version": "3.10.16"
  }
 },
 "nbformat": 4,
 "nbformat_minor": 5
}
