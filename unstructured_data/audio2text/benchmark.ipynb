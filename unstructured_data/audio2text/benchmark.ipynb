{
 "cells": [
  {
   "cell_type": "code",
   "execution_count": 2,
   "id": "326f7e4a-377c-4854-8a6b-e6378e63cc09",
   "metadata": {},
   "outputs": [],
   "source": [
    "\n",
    "import os\n",
    "import shutil\n",
    "from snowflake.snowpark import Session\n"
   ]
  },
  {
   "cell_type": "code",
   "execution_count": 265,
   "id": "d67fc1e4-74b6-4b47-8beb-4f3180316e16",
   "metadata": {},
   "outputs": [],
   "source": [
    "\n",
    "account='' # YOUR_ACCOUNT\n",
    "user='' # YOUR_USER\n",
    "password='' # YOUR_PASSWORD\n",
    "role='' #YOUR_ROLE\n",
    "\n",
    "database='' #YOUR_DB\n",
    "schema='' #YOUR_SCHEMA\n",
    "stage='data_files' #YOUR_STAGE\n",
    "stage_files_path='audio2text/container-files' #data path \n",
    "\n",
    "warehouse='' #YOUR WH\n",
    "image_registry='TEST_REPOSITORY' #name of the image registry that will be created\n",
    "image_name='audio2text:01' # name of the image\n",
    "\n",
    "external_access_integration='all_eai' # EAI that is used to retrieve the model\n",
    "num_replicas = 1 # service number of replicas\n",
    "job_name='audio2text_v2' # job name\n",
    "output_table='audio2text_output_table' #table to write results\n",
    "\n",
    "compute_pool_name='CP_GPU_01' \n",
    "compute_pool_instance_family='CPU_X64_M'\n",
    "compute_pool_instances=1\n",
    "\n",
    "\n",
    "connection_parameters = {\n",
    "    \"account\": account,\n",
    "    \"user\": user,\n",
    "    \"password\": password,\n",
    "    \"warehouse\": warehouse,\n",
    "    \"database\": database,\n",
    "    \"schema\": schema,\n",
    "    \"role\": role,\n",
    "    \"host\": host,\n",
    "    \"client_session_keep_alive\": True,\n",
    "}\n",
    "\n",
    "session = Session.builder.configs(connection_parameters).create()\n"
   ]
  },
  {
   "cell_type": "code",
   "execution_count": null,
   "id": "28f46739-5306-4515-9b70-d9b72c7124cf",
   "metadata": {
    "scrolled": true
   },
   "outputs": [],
   "source": [
    "\n",
    "\n",
    "import tempfile\n",
    "import os\n",
    "\n",
    "tempdir = tempfile.TemporaryDirectory()\n",
    "\n",
    "\n",
    "os.environ['DATA_TARGET_DIR'] = tempdir.name\n",
    "\n",
    "!wget -P $DATA_TARGET_DIR URL https://us.openslr.org/resources/12/dev-clean.tar.gz\n",
    "\n",
    "!tar -xzf $DATA_TARGET_DIR/dev-clean.tar.gz -C $DATA_TARGET_DIR\n",
    "\n",
    "\n",
    "create_data_stage_sql = f\"create stage if not exists {stage} ENCRYPTION = (TYPE = 'SNOWFLAKE_SSE') DIRECTORY = (ENABLE = TRUE);\"\n",
    "session.sql(create_data_stage_sql).collect()\n",
    "\n",
    "\n",
    "session.file.put(f\"{tempdir.name}/LibriSpeech/dev-clean/*/*/*\", f\"@{stage}/LibriSpeech\", auto_compress=False, overwrite=True, parallel=99)\n",
    "\n",
    "tempdir.cleanup()\n",
    "\n"
   ]
  },
  {
   "cell_type": "code",
   "execution_count": 267,
   "id": "1094817b-e5b9-4047-9745-2f8900533c01",
   "metadata": {},
   "outputs": [
    {
     "name": "stdout",
     "output_type": "stream",
     "text": [
      "preprod9-aivanoutest02.awsuswest2preprod9.registry-dev.snowflakecomputing.com/aivanoudb/public/embeddings_repository\n"
     ]
    }
   ],
   "source": [
    "\n",
    "create_image_repo_sql = f\"CREATE IMAGE REPOSITORY IF NOT EXISTS {image_registry}\"\n",
    "session.sql(create_image_repo_sql).collect()\n",
    "\n",
    "get_image_repo_sql = f\"show image repositories like '{image_registry}';\"\n",
    "repository_url = session.sql(get_image_repo_sql).collect()[0]['repository_url']\n",
    "print(repository_url)\n"
   ]
  },
  {
   "cell_type": "code",
   "execution_count": null,
   "id": "1d5909b7-27d3-4258-a03d-e09900bb7041",
   "metadata": {
    "scrolled": true
   },
   "outputs": [],
   "source": [
    "\n",
    "os.environ['SPCS_USERNAME']=user\n",
    "os.environ['SPCS_PASSWORD']=password\n",
    "os.environ['SPCS_IMAGE_REPO']=repository_url\n",
    "os.environ['SPCS_IMAGE_NAME']=image_name\n",
    "\n",
    "!docker login $SPCS_IMAGE_REPO -u $SPCS_USERNAME -p $SPCS_PASSWORD\n",
    "\n",
    "!docker build --platform linux/amd64 -t $SPCS_IMAGE_REPO/$SPCS_IMAGE_NAME -f ./Dockerfile.benchmark ./\n",
    "\n",
    "!docker push $SPCS_IMAGE_REPO/$SPCS_IMAGE_NAME\n"
   ]
  },
  {
   "cell_type": "code",
   "execution_count": 269,
   "id": "597e4c65-047a-4c03-b469-e7c279817d50",
   "metadata": {},
   "outputs": [
    {
     "name": "stdout",
     "output_type": "stream",
     "text": [
      "[Row(status='CP_GPU_01 already exists, statement succeeded.')]\n"
     ]
    }
   ],
   "source": [
    "\n",
    "create_compute_pool_sql = f\"\"\"\n",
    "create compute pool if not exists {compute_pool_name}\n",
    "  min_nodes={compute_pool_instances}\n",
    "  max_nodes={compute_pool_instances}\n",
    "  instance_family={compute_pool_instance_family};\n",
    "\"\"\"\n",
    "\n",
    "print(session.sql(create_compute_pool_sql).collect())\n",
    "\n"
   ]
  },
  {
   "cell_type": "code",
   "execution_count": 334,
   "id": "708dd187-ca23-42db-a3b7-6399d60f1f93",
   "metadata": {},
   "outputs": [
    {
     "name": "stdout",
     "output_type": "stream",
     "text": [
      "[Row(status='AUDIO2TEXT_V2 successfully dropped.')]\n",
      "[Row(status=\"Started Snowpark Container Services Job 'AUDIO2TEXT_V2'.\")]\n"
     ]
    }
   ],
   "source": [
    "\n",
    "job_name=\"NEMO_MODEL\"\n",
    "\n",
    "# run canary model\n",
    "print(session.sql(f'DROP SERVICE IF EXISTS {job_name}').collect())\n",
    "\n",
    "create_async_job_sql = f\"\"\"\n",
    "EXECUTE JOB SERVICE\n",
    "IN COMPUTE POOL {compute_pool_name} \n",
    "NAME = {job_name}\n",
    "ASYNC = True\n",
    "REPLICAS = {num_replicas}\n",
    "QUERY_WAREHOUSE = {warehouse}\n",
    "EXTERNAL_ACCESS_INTEGRATIONS = ({external_access_integration})\n",
    "FROM SPECIFICATION $$\n",
    "    spec:\n",
    "      container:\n",
    "      - name: main\n",
    "        image: /{database}/{schema}/{image_registry}/{image_name}\n",
    "        command:\n",
    "        - python\n",
    "        args:\n",
    "        - -u\n",
    "        - ./main_benchmark.py\n",
    "        - --output-table=audio2text02\n",
    "        - --model-name=nvidia/canary-1b\n",
    "        - --model-type=nemo-canary\n",
    "        - --dataset-type=libri\n",
    "        - --batch-size=8\n",
    "        env:\n",
    "            SNOWFLAKE_QUERY_WAREHOUSE: LARGEWH\n",
    "        volumeMounts:\n",
    "          - name: data-files\n",
    "            mountPath: /data\n",
    "\n",
    "        resources:\n",
    "              requests:\n",
    "                nvidia.com/gpu: 1\n",
    "                memory: \"10Gi\"\n",
    "              limits:\n",
    "                nvidia.com/gpu: 1\n",
    "                memory: \"10Gi\"\n",
    "      volume:\n",
    "        - name: data-files\n",
    "          source: \"@{stage}\"\n",
    "          uid: 1000\n",
    "          gid: 1000\n",
    "\n",
    "$$\n",
    "\"\"\"\n",
    "\n",
    "print(session.sql(create_async_job_sql).collect())\n",
    "\n"
   ]
  },
  {
   "cell_type": "code",
   "execution_count": null,
   "id": "8d6f209a-e736-4346-8bbd-b40fd8bca8ed",
   "metadata": {},
   "outputs": [],
   "source": [
    "\n",
    "job_name=\"WHISPER_MODEL\"\n",
    "# run whisper model\n",
    "print(session.sql(f'DROP SERVICE IF EXISTS {job_name}').collect())\n",
    "\n",
    "create_async_job_sql = f\"\"\"\n",
    "EXECUTE JOB SERVICE\n",
    "IN COMPUTE POOL {compute_pool_name} \n",
    "NAME = {job_name}\n",
    "ASYNC = True\n",
    "REPLICAS = {num_replicas}\n",
    "QUERY_WAREHOUSE = {warehouse}\n",
    "EXTERNAL_ACCESS_INTEGRATIONS = ({external_access_integration})\n",
    "FROM SPECIFICATION $$\n",
    "    spec:\n",
    "      container:\n",
    "      - name: main\n",
    "        image: /{database}/{schema}/{image_registry}/{image_name}\n",
    "        command:\n",
    "        - python\n",
    "        args:\n",
    "        - -u\n",
    "        - ./main_benchmark.py\n",
    "        - --output-table=audio2text02\n",
    "        - --model-name=openai/whisper-tiny.en\n",
    "        - --model-type=whisper\n",
    "        - --dataset-type=libri\n",
    "        - --batch-size=8\n",
    "        env:\n",
    "            SNOWFLAKE_QUERY_WAREHOUSE: LARGEWH\n",
    "        volumeMounts:\n",
    "          - name: data-files\n",
    "            mountPath: /data\n",
    "\n",
    "        resources:\n",
    "              requests:\n",
    "                nvidia.com/gpu: 1\n",
    "                memory: \"10Gi\"\n",
    "              limits:\n",
    "                nvidia.com/gpu: 1\n",
    "                memory: \"10Gi\"\n",
    "      volume:\n",
    "        - name: data-files\n",
    "          source: \"@{stage}\"\n",
    "          uid: 1000\n",
    "          gid: 1000\n",
    "\n",
    "$$\n",
    "\"\"\"\n",
    "\n",
    "print(session.sql(create_async_job_sql).collect())\n",
    "\n"
   ]
  },
  {
   "cell_type": "code",
   "execution_count": null,
   "id": "ec78eb50-7b85-440a-80f9-2a652beb9ac5",
   "metadata": {},
   "outputs": [],
   "source": [
    "\n",
    "print(session.sql(f'DESC SERVICE {job_name}').collect())\n",
    "\n"
   ]
  },
  {
   "cell_type": "code",
   "execution_count": null,
   "id": "c622b03b-6f5e-47fc-a8f6-039d56723767",
   "metadata": {
    "scrolled": true
   },
   "outputs": [],
   "source": [
    "\n",
    "logs = session.sql(f\"CALL SYSTEM$GET_SERVICE_LOGS('{job_name}', 0, 'main')\").collect()\n",
    "for line in logs[0][0].split('\\n'):\n",
    "    print(line)\n"
   ]
  },
  {
   "cell_type": "code",
   "execution_count": null,
   "id": "80fba6f9-e975-492c-94b1-0078ee1da285",
   "metadata": {},
   "outputs": [],
   "source": [
    "\n",
    "sql_logs_query = \"\"\"\n",
    "select VALUE from aivanoudb.PUBLIC.snowservice_logs\n",
    "where true\n",
    "and RESOURCE_ATTRIBUTES:\"snow.service.name\" = 'AUDIO2TEXT_V2'\n",
    "and RESOURCE_ATTRIBUTES:\"snow.service.container.instance\" = '0'\n",
    "order by timestamp desc\n",
    "limit 200;\n",
    "\"\"\"\n",
    "\n",
    "logs = session.sql(sql_logs_query).collect()\n",
    "\n",
    "logs\n",
    "\n"
   ]
  }
 ],
 "metadata": {
  "kernelspec": {
   "display_name": "Python 3 (ipykernel)",
   "language": "python",
   "name": "python3"
  },
  "language_info": {
   "codemirror_mode": {
    "name": "ipython",
    "version": 3
   },
   "file_extension": ".py",
   "mimetype": "text/x-python",
   "name": "python",
   "nbconvert_exporter": "python",
   "pygments_lexer": "ipython3",
   "version": "3.10.16"
  }
 },
 "nbformat": 4,
 "nbformat_minor": 5
}
